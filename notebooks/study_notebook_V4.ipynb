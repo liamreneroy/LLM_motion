{
 "cells": [
  {
   "cell_type": "markdown",
   "id": "874baada-b757-4a4b-b973-1672b287326f",
   "metadata": {},
   "source": [
    "# User Study 02 - RL Audio Notebook\n",
    "\n",
    "Please click the folliwng two links to read the explanatory statrement and answer the pre-study questionnaire.\n",
    "\n",
    "<span style=\"color:yellow\">**Explanatory Statement:**</span> https://drive.google.com/file/d/1-8npbW1wg_ABzBnnGa1dgEgCaYjDED8o/view?usp=sharing\n",
    "\n",
    "<span style=\"color:yellow\">**Consent Form:**</span> https://forms.gle/eZMYzwaHG4Bqpgp6A\n",
    "\n",
    "<span style=\"color:yellow\">**Pre-study Questionnaire:**</span> https://forms.gle/GAU8xzekWKkTMDLVA   (Participant ID Required)"
   ]
  },
  {
   "cell_type": "markdown",
   "id": "9e2cc91e-71da-4d55-81ed-a10848f4e6a8",
   "metadata": {
    "tags": []
   },
   "source": [
    "# Setup\n",
    "\n",
    "<span style=\"color:red\">**Before starting this Notebook...**</span>\n",
    "\n",
    "1. <span style=\"color:red\">**Sub the line of code specifying PWD path**</span> on your device to: ./../RL_audio/notebooks\n",
    "\n",
    "2. <span style=\"color:red\">**Install the required packages**</span> (below) to run the notebook\n",
    "\n",
    "3. <span style=\"color:red\">**Enable JupyterLab Dark**</span>. Under \"Settings\" --> Theme --> \"JupyterLab Dark\" (*Optional but recommended*)"
   ]
  },
  {
   "cell_type": "code",
   "execution_count": null,
   "id": "b00ed503-2ddc-4628-9953-8bb78dfc39e9",
   "metadata": {},
   "outputs": [],
   "source": [
    "%cd /home/liamroy/Documents/PHD/repos/RL_audio/notebooks\n",
    "\n",
    "# %cd '/Users/liamroy/Library/CloudStorage/GoogleDrive-liam.roy@monash.edu/My Drive/Robotics/User Study 02 - Auto State Expression/RL_audio/notebooks'\n",
    "\n",
    "# %cd <add your path here and comment out the others>"
   ]
  },
  {
   "cell_type": "code",
   "execution_count": null,
   "id": "810beac1-8c6f-422e-92c1-2bbe9e8f6fe4",
   "metadata": {},
   "outputs": [],
   "source": [
    "PWD = %pwd"
   ]
  },
  {
   "cell_type": "markdown",
   "id": "adec8aa1-7844-49c0-815a-9f4ee21dd17c",
   "metadata": {
    "jp-MarkdownHeadingCollapsed": true,
    "tags": []
   },
   "source": [
    "## Packages"
   ]
  },
  {
   "cell_type": "markdown",
   "id": "e4573204-227f-4184-8526-db92ecd20aec",
   "metadata": {},
   "source": [
    "Please install the following:\n",
    "\n",
    "pygame   (see this webpage ~ https://www.pygame.org/wiki/GettingStarted)  \n",
    "jupyterlab, numpy, termcolor, openpyxl, nbconvert-webpdf  \n",
    "\n",
    "\n",
    "Either use:    \n",
    "--> sudo apt-get install <package_name>  \n",
    "--> python3 -m pip install <package_name>  \n",
    "--> conda install -c conda-forge <package_name>  \n",
    "\n",
    "\n",
    "Example using conda:  \n",
    "--> conda install -c conda-forge <package_name>  \n",
    "\n",
    "jupyterlab or notebook  \n",
    "numpy  \n",
    "termcolor  \n",
    "openpyxl  \n",
    "nbconvert-webpdf              "
   ]
  },
  {
   "cell_type": "markdown",
   "id": "83e6d737-5bb2-4817-b2c9-8328780838e2",
   "metadata": {
    "tags": []
   },
   "source": [
    "## Imports"
   ]
  },
  {
   "cell_type": "code",
   "execution_count": null,
   "id": "1dd1d014-71ea-4649-a013-347682ce55dc",
   "metadata": {},
   "outputs": [],
   "source": [
    "#  ~~~~~~~~~~~~~~~~~~~~~~~~~~~~~~~~~~~~~~~~~~~~~~~~~~~~~~~~~~~~~~~~\n",
    "# IMPORTS\n",
    "import os\n",
    "import shutil\n",
    "import time\n",
    "import numpy as np\n",
    "import random\n",
    "import argparse\n",
    "import linecache\n",
    "\n",
    "from scripts import audio_control_V2 as audio_ctrl\n",
    "from scripts import ucb1_algorithm_V2 as ucb1\n",
    "from scripts import misc_helpers_V2 as mischelp\n",
    "\n",
    "import sys\n",
    "\n",
    "from termcolor import colored, cprint\n",
    "# Termcolor guide: https://pypi.org/project/termcolor/\n",
    "\n",
    "\n",
    "#  ~~~~~~~~~~~~~~~~~~~~~~~~~~~~~~~~~~~~~~~~~~~~~~~~~~~~~~~~~~~~~~~~\n",
    "#  ARGUMENTS & PARSER (Save this code for scripts working with CLI)\n",
    "\n",
    "# argParser = argparse.ArgumentParser()\n",
    "\n",
    "# # Enter any valid integer value\n",
    "# argParser.add_argument(\"-b\", \"--budg\", required=False, help=\"select the budget value (dtype=int)\")\n",
    "\n",
    "# # Enter a valid parameter discritization integer (must match sound library size)\n",
    "# argParser.add_argument(\"-d\", \"--disc\", required=False, help=\"select discritization size (dtype=int)\")\n",
    "\n",
    "# # Enter true if you would like to see hidden print log, including Q-tables\n",
    "# argParser.add_argument(\"-p\", \"--prnt\", required=False, help=\"show hidden print log (dtype=bool)\")\n",
    "\n",
    "# # To load and save, simply enter in the base filename such as \"lastsave\" or \"set_A\", system takes care of rest\n",
    "# argParser.add_argument(\"-s\", \"--save\", required=False, help=\"filename to save Q-table on exit (dtype=str)\") \n",
    "# argParser.add_argument(\"-l\", \"--load\", required=False, help=\"load Q-table from filename (dtype=str)\") \t"
   ]
  },
  {
   "cell_type": "markdown",
   "id": "6f9a1705-a32d-4cf4-88f7-9cf7a14a45bf",
   "metadata": {
    "tags": []
   },
   "source": [
    "## Initializations"
   ]
  },
  {
   "cell_type": "code",
   "execution_count": null,
   "id": "894c6de3-9aef-42ae-bb33-8a48c08c79f9",
   "metadata": {},
   "outputs": [],
   "source": [
    "# Parameter discritization\n",
    "param_disc = 3 \n",
    "\n",
    "state_descriptions = [\"Stuck\t  \\t- robot is in trouble and needs your help\",         #Index [0]\n",
    "                      \"Accomplished \\t- robot has successfully completed it's task\",    #Index [1]\n",
    "                      \"Progressing \\t- robot is working and doesn't need help\",         #Index [2]\n",
    "                      \"None of the above\"]                                              #Index [3]\n",
    "\n",
    "\n",
    "num_of_states = len(state_descriptions) - 1 # Adding a minus 1 since the last state in \"state_descriptions\" is \"none of the above\"\n",
    "state_range = np.arange(num_of_states)\n",
    "\n",
    "\n",
    "# CREATE SOUND LIBRARY A\n",
    "# For library A, setup the array using libA\n",
    "library_A = \"libA\"\n",
    "\n",
    "# Create an array of size (N x N x N) where N = number of discretized regions\n",
    "# number of discretized regions for each param --> i.e. if equals 3 then (0, 1, 2)\n",
    "# ** must align with the discretization for selected sound library\n",
    "sound_obj_array_A = np.ndarray((param_disc, param_disc, param_disc),dtype=object)\n",
    "\n",
    "for param_1_range in range(param_disc):\n",
    "\tfor param_2_range in range(param_disc):\n",
    "\t\tfor param_3_range in range(param_disc):\n",
    "\t\t\tsound_obj_array_A[param_1_range, param_2_range, param_3_range] = audio_ctrl.audio_object(param_1=param_1_range, param_2=param_2_range, param_3=param_3_range, sound_library=library_A)\n",
    "\t\t\t\n",
    "\t\t\t\n",
    "# CREATE SOUND LIBRARY B\n",
    "# For library B, setup the array using libB\n",
    "library_B = \"libB\"\n",
    "\n",
    "# Create an array of size (N x N x N) where N = number of discretized regions\n",
    "# number of discretized regions for each param --> i.e. if equals 3 then (0, 1, 2)\n",
    "# ** must align with the discretization for selected sound library\n",
    "sound_obj_array_B = np.ndarray((param_disc, param_disc, param_disc),dtype=object)\n",
    "\n",
    "for param_1_range in range(param_disc):\n",
    "\tfor param_2_range in range(param_disc):\n",
    "\t\tfor param_3_range in range(param_disc):\n",
    "\t\t\tsound_obj_array_B[param_1_range, param_2_range, param_3_range] = audio_ctrl.audio_object(param_1=param_1_range, param_2=param_2_range, param_3=param_3_range, sound_library=library_B)\n",
    "\t\t\t"
   ]
  },
  {
   "cell_type": "markdown",
   "id": "bfa9c7e5-1539-481d-817a-a4289ec499c7",
   "metadata": {
    "tags": []
   },
   "source": [
    "Start by entering your user ID. \n",
    "\t\n",
    "<span style=\"color:yellow\">**Click on the first cell below & hit 'shift + enter'...**</span>"
   ]
  },
  {
   "cell_type": "code",
   "execution_count": null,
   "id": "87f50b0a-b88d-4d55-a9e8-dfd8e7bd1ab0",
   "metadata": {},
   "outputs": [],
   "source": [
    "\n",
    "\n",
    "\n",
    "current_user_ID_str = mischelp.get_user_ID(parent_dir=PWD, num_of_states=num_of_states)\n",
    "\n",
    "\n"
   ]
  },
  {
   "cell_type": "markdown",
   "id": "0567c300-989f-40c8-b1be-69510f22ccab",
   "metadata": {
    "tags": []
   },
   "source": [
    "# MAIN STUDY <span style=\"color:yellow\">(start here)</span>\n",
    "\n",
    "Welcome to this study's <span style=\"color:yellow\">**Jupyter notebook**</span>. In this work, we are developing strategies for improving human-robot interaction with nonverbal sounds (<span style=\"color:yellow\">**_beeps & boops_**</span>).\n",
    "\n",
    "This study is best completed with <span style=\"color:yellow\">**headphones**</span>. Ensure your volume is on.\n",
    "\n",
    "While a robot is working on a task, it can have many different internal states. Consider a scenario in which you are guiding a robot as it navigates a maze to find fruit:  \n",
    "\n",
    "If the robot gets lost or stuck behind an obstacle, the robot's internal state is: <span style=\"color:Red\">**Stuck**</span>\n",
    "\n",
    "Similarly, if the robot was able to reach it's goal (find a fruit), the robot's internal state is: <span style=\"color:green\">**Accomplished**</span>\n",
    "\n",
    "If the robot is actively working on the task (navigating through the maze) but has neither gotten stuck nor completed the task, the robot's internal state is: <span style=\"color:blue\">**Progressing**</span>\n",
    "\n",
    "In this notebook, you will be asked to run through <span style=\"color:yellow\">**3 sections**</span>. In each of these sections, a virtual robot will play a sound. Once you listen to the sound, you will be asked to select which robot state you think the virtual robot is in. You will have the options: <span style=\"color:Red\">**Stuck**</span>, <span style=\"color:green\">**Accomplished**</span>, <span style=\"color:blue\">**Progressing**</span> and <span style=\"color:orange\">**None of the above**</span>.\n",
    "\n",
    "In addition to each answer, you will also self-score how confident you are in your response, on a scale from 1 to 10. \n",
    "\n",
    "This process will repeat several times as a learning algorithm is processing in the background. <span style=\"color:yellow\">**If you have any questions, ask your study moderator**</span>. Have fun!"
   ]
  },
  {
   "cell_type": "markdown",
   "id": "e661aa69-60ca-495d-bf0a-d19b71a391d0",
   "metadata": {
    "tags": []
   },
   "source": [
    "## SECTION 1A"
   ]
  },
  {
   "cell_type": "markdown",
   "id": "281452a7-d84d-4b23-88c6-c8c758cede9e",
   "metadata": {},
   "source": [
    "<span style=\"color:yellow\">**Our first robot is named Jackal.**</span>\n",
    "\n",
    "Let's listen to <span style=\"color:yellow\">**Jackal**</span> make a few sounds to express itself. \n",
    "\n",
    "For each sound, you will asked to select which robot state you think the robot is in.\n",
    "\n",
    "<span style=\"color:yellow\">**Click on the cell below & hit 'shift + enter'...**</span>"
   ]
  },
  {
   "cell_type": "code",
   "execution_count": null,
   "id": "9b2b7585-4d7b-4110-bf9e-a9a98157462c",
   "metadata": {},
   "outputs": [],
   "source": [
    "\n",
    "\n",
    "\n",
    "mischelp.get_user_accuracy(sound_obj_array=sound_obj_array_A, lib_str=library_A, sect_str=\"sect1\", user_ID_str=current_user_ID_str, num_of_states=num_of_states, \n",
    "                           states_array=np.ndarray(num_of_states, dtype=object), state_descriptions=state_descriptions, param_disc=param_disc, load_file=\"pilotset\", seed=70,  mixer_volume=0.75)\n",
    "\n",
    "\n"
   ]
  },
  {
   "cell_type": "markdown",
   "id": "ec757898-2dc4-4ffc-9274-459555232ef1",
   "metadata": {},
   "source": [
    "<img src=\"images/jackal.png\" alt=\"Jackal Robot\" style=\"height: 334px; width:600px;\"/>"
   ]
  },
  {
   "cell_type": "markdown",
   "id": "f57c4fd1-8c94-47e1-a158-bf2c574c0421",
   "metadata": {
    "tags": []
   },
   "source": [
    "## SECTION 1B\n",
    "\n",
    "<span style=\"color:yellow\">**Our next robot is named the Spot.**</span>\n",
    "\n",
    "Let's listen to <span style=\"color:yellow\">**Spot**</span> make a few sounds to express itself. \n",
    "\n",
    "You will notice <span style=\"color:yellow\">**Spot**</span> sounds slightly different to <span style=\"color:yellow\">**Jackal**</span>. For each sound, you will asked to select which robot state you think the robot is in.\n",
    "\n",
    "<span style=\"color:yellow\">**Click on the cell below & hit 'shift + enter'...**</span>"
   ]
  },
  {
   "cell_type": "code",
   "execution_count": null,
   "id": "d522dad9-f3fc-45c4-871c-39035dd2234c",
   "metadata": {},
   "outputs": [],
   "source": [
    "\n",
    "\n",
    "mischelp.get_user_accuracy(sound_obj_array=sound_obj_array_B, lib_str=library_B, sect_str=\"sect1\", user_ID_str=current_user_ID_str, num_of_states=num_of_states, \n",
    "                           states_array=np.ndarray(num_of_states, dtype=object), state_descriptions=state_descriptions, param_disc=param_disc, load_file=\"pilotset\", seed=51,  mixer_volume=0.45)\n",
    "\n",
    "\n"
   ]
  },
  {
   "cell_type": "markdown",
   "id": "1d0063a6-d329-4486-a53c-2ef67a20814f",
   "metadata": {},
   "source": [
    "<img src=\"images/spot.png\" alt=\"Spot Robot\" style=\"height: 334px; width:600px;\"/>"
   ]
  },
  {
   "cell_type": "markdown",
   "id": "d05ca2de-78ed-4687-80e7-3b81400b4072",
   "metadata": {
    "tags": []
   },
   "source": [
    "## Section 2\n",
    "\n",
    "In section 2, we'll be listening to <span style=\"color:yellow\">**Jackal**</span> again.\n",
    "\n",
    "Similar to before, <span style=\"color:yellow\">**Jackal**</span> make a few sounds to express itself, and you will asked to select which robot state you think the robot is in.\n",
    "\n",
    "This process will repeat several times as a learning algorithm is processing in the background."
   ]
  },
  {
   "cell_type": "markdown",
   "id": "36f87f4c-e025-4172-ae7d-16394478c344",
   "metadata": {
    "tags": []
   },
   "source": [
    "### Section 2O\n",
    "\n",
    "<span style=\"color:yellow\">**Click on the cell below & hit 'shift + enter'...**</span>"
   ]
  },
  {
   "cell_type": "code",
   "execution_count": null,
   "id": "1e765ff7-c847-4eac-8890-4db2a261dc00",
   "metadata": {
    "tags": []
   },
   "outputs": [],
   "source": [
    "# SECTION 2O\n",
    "\n",
    "\n",
    "ucb1.ucb1_algor(num_of_states=num_of_states, state_descriptions=state_descriptions, param_disc=param_disc, \n",
    "                sound_obj_array=sound_obj_array_A, current_user_ID_str=current_user_ID_str, sect_str=\"_sect2O\", load_file=\"pilotset\", budget=60, \n",
    "                delta_Q_thresh=2.0, conv_thresh=3, printer=None, mixer_volume=0.75)\n",
    "\n",
    "\n",
    "sect3_load_str = current_user_ID_str + \"_sect2O_final\""
   ]
  },
  {
   "cell_type": "markdown",
   "id": "39a5f71f-3594-4643-a7df-9d1f680ab885",
   "metadata": {},
   "source": [
    "<img src=\"images/jackal.png\" alt=\"Jackal Robot\" style=\"height: 334px; width:600px;\"/>"
   ]
  },
  {
   "cell_type": "markdown",
   "id": "50631102-91eb-45e8-b7e9-f58f59cc15c1",
   "metadata": {
    "tags": []
   },
   "source": [
    "### Section 2X\n",
    "\n",
    "<span style=\"color:yellow\">**Click on the cell below & hit 'shift + enter'...**</span>"
   ]
  },
  {
   "cell_type": "code",
   "execution_count": null,
   "id": "867df0b5-7124-4d5d-8e5f-533e4f1b2c38",
   "metadata": {},
   "outputs": [],
   "source": [
    "# SECTION 2X\n",
    "\n",
    "\n",
    "ucb1.ucb1_algor(num_of_states=num_of_states, state_descriptions=state_descriptions, param_disc=param_disc, \n",
    "                sound_obj_array=sound_obj_array_A, current_user_ID_str=current_user_ID_str, sect_str=\"_sect2X\", load_file=None, budget=60, \n",
    "                delta_Q_thresh=2.0, conv_thresh=3, printer=None, mixer_volume=0.75)\n",
    "\n",
    "\n",
    "sect3_load_str = current_user_ID_str + \"_sect2X_final\""
   ]
  },
  {
   "cell_type": "markdown",
   "id": "3e90e6fb-9f35-4f61-be2a-683d01caf0f8",
   "metadata": {},
   "source": [
    "<img src=\"images/jackal.png\" alt=\"Jackal Robot\" style=\"height: 334px; width:600px;\"/>"
   ]
  },
  {
   "cell_type": "markdown",
   "id": "5b9a616f-dd0e-49e0-a454-c7adb5339402",
   "metadata": {
    "tags": []
   },
   "source": [
    "## Section 3A\n",
    "\n",
    "We're nearly finished ~ <span style=\"color:yellow\">**home stretch!**</span>\n",
    "\n",
    "Let's listen to <span style=\"color:yellow\">**Jackal**</span> express itself one last time. \n",
    "\n",
    "For each sound, you will asked to select which robot state you think the robot is in.\n",
    "\n",
    "<span style=\"color:yellow\">**Click on the cell below & hit 'shift + enter'...**</span>"
   ]
  },
  {
   "cell_type": "code",
   "execution_count": null,
   "id": "77236d11-3ada-45e1-8dcb-38c8c28f7e0a",
   "metadata": {},
   "outputs": [],
   "source": [
    "\n",
    "\n",
    "mischelp.get_user_accuracy(sound_obj_array=sound_obj_array_A, lib_str=library_A, sect_str=\"sect3\", user_ID_str=current_user_ID_str, num_of_states=num_of_states, \n",
    "                           states_array=np.ndarray(num_of_states, dtype=object), state_descriptions=state_descriptions, param_disc=param_disc, load_file=sect3_load_str, seed=51, mixer_volume=0.75)\n",
    "\n",
    "\n"
   ]
  },
  {
   "cell_type": "markdown",
   "id": "c5da96d7-29b0-4d59-b989-b0e79e02418c",
   "metadata": {},
   "source": [
    "<img src=\"images/jackal.png\" alt=\"Jackal Robot\" style=\"height: 334px; width:600px;\"/>"
   ]
  },
  {
   "cell_type": "markdown",
   "id": "611f8cd2-0fc0-4104-9b35-80235e297ec0",
   "metadata": {
    "tags": []
   },
   "source": [
    "## Section 3B\n",
    "\n",
    "Lastly, let's listen to <span style=\"color:yellow\">**Spot**</span> express itself one last time.  \n",
    "\n",
    "You will notice <span style=\"color:yellow\">**Spot**</span> sounds slightly different to <span style=\"color:yellow\">**Jackal**</span>. For each sound, you will asked to select which robot state you think the robot is in.\n",
    "\n",
    "<span style=\"color:yellow\">**Click on the cell below & hit 'shift + enter'...**</span>"
   ]
  },
  {
   "cell_type": "code",
   "execution_count": null,
   "id": "cd3e93b6-816d-4432-a577-9eb5264a9e92",
   "metadata": {},
   "outputs": [],
   "source": [
    "\n",
    "\n",
    "\n",
    "mischelp.get_user_accuracy(sound_obj_array=sound_obj_array_B, lib_str=library_B, sect_str=\"sect3\", user_ID_str=current_user_ID_str, num_of_states=num_of_states, \n",
    "                           states_array=np.ndarray(num_of_states, dtype=object), state_descriptions=state_descriptions, param_disc=param_disc, load_file=sect3_load_str, seed=48, mixer_volume=0.45)\n",
    "\n",
    "\n"
   ]
  },
  {
   "cell_type": "markdown",
   "id": "7afbf567-7944-4017-b852-b8fc65c8812f",
   "metadata": {},
   "source": [
    "<img src=\"images/spot.png\" alt=\"Spot Robot\" style=\"height: 334px; width:600px;\"/>"
   ]
  },
  {
   "cell_type": "markdown",
   "id": "a1589681-eef4-462a-9005-d27abd5e3a76",
   "metadata": {
    "tags": []
   },
   "source": [
    "## Final Results: <span style=\"color:yellow\">**Jackal**</span>\n",
    "\n",
    "Lets listen to the sounds the Jackal learned to express each of it's 3 states...\n",
    "\n",
    "<span style=\"color:yellow\">**Click on the cell below & hit 'shift + enter'...**</span>"
   ]
  },
  {
   "cell_type": "code",
   "execution_count": null,
   "id": "9c375667-f846-453c-b678-1529213160a8",
   "metadata": {},
   "outputs": [],
   "source": [
    "# State 0 - Stuck\n",
    "\n",
    "\n",
    "mischelp.play_final_sound(sound_obj_array=sound_obj_array_A, lib_str=library_A, sect_str=\"sect3\", user_ID_str=current_user_ID_str, given_state_idx=0, \n",
    "                           states_array=np.ndarray(num_of_states, dtype=object), state_descriptions=state_descriptions, param_disc=param_disc, load_file=sect3_load_str, seed=48, mixer_volume=0.45)\n",
    "\n",
    "\n"
   ]
  },
  {
   "cell_type": "code",
   "execution_count": null,
   "id": "095901f3-f9ba-4404-b9e0-e4078e8e42b2",
   "metadata": {
    "tags": []
   },
   "outputs": [],
   "source": [
    "# State 1 - Accomplished\n",
    "\n",
    "\n",
    "mischelp.play_final_sound(sound_obj_array=sound_obj_array_A, lib_str=library_A, sect_str=\"sect3\", user_ID_str=current_user_ID_str, given_state_idx=1, \n",
    "                           states_array=np.ndarray(num_of_states, dtype=object), state_descriptions=state_descriptions, param_disc=param_disc, load_file=sect3_load_str, seed=48, mixer_volume=0.45)\n",
    "\n",
    "\n"
   ]
  },
  {
   "cell_type": "code",
   "execution_count": null,
   "id": "ad66652c-56b9-4a9c-a480-1984fa056853",
   "metadata": {},
   "outputs": [],
   "source": [
    "# State 2 - Progressing\n",
    "\n",
    "\n",
    "mischelp.play_final_sound(sound_obj_array=sound_obj_array_A, lib_str=library_A, sect_str=\"sect3\", user_ID_str=current_user_ID_str, given_state_idx=2, \n",
    "                           states_array=np.ndarray(num_of_states, dtype=object), state_descriptions=state_descriptions, param_disc=param_disc, load_file=sect3_load_str, seed=48, mixer_volume=0.45)\n",
    "\n",
    "\n"
   ]
  },
  {
   "cell_type": "markdown",
   "id": "7b058ff5-6011-4e1f-af30-cd7af21f6671",
   "metadata": {
    "tags": []
   },
   "source": [
    "## Final Results: <span style=\"color:yellow\">**Spot**</span>\n",
    "\n",
    "Lets listen to the sounds the Jackal learned to express each of it's 3 states...\n",
    "\n",
    "<span style=\"color:yellow\">**Click on the cell below & hit 'shift + enter'...**</span>"
   ]
  },
  {
   "cell_type": "code",
   "execution_count": null,
   "id": "b1df7ef7-7cfe-44ab-b7c8-40bedc3bcb7b",
   "metadata": {},
   "outputs": [],
   "source": [
    "# State 0 - Stuck\n",
    "\n",
    "\n",
    "mischelp.play_final_sound(sound_obj_array=sound_obj_array_B, lib_str=library_B, sect_str=\"sect3\", user_ID_str=current_user_ID_str, given_state_idx=0, \n",
    "                           states_array=np.ndarray(num_of_states, dtype=object), state_descriptions=state_descriptions, param_disc=param_disc, load_file=sect3_load_str, seed=48, mixer_volume=0.45)\n",
    "\n",
    "\n"
   ]
  },
  {
   "cell_type": "code",
   "execution_count": null,
   "id": "7bae3d3d-07f1-436c-887f-d94868e69724",
   "metadata": {
    "tags": []
   },
   "outputs": [],
   "source": [
    "# State 1 - Accomplished\n",
    "\n",
    "\n",
    "mischelp.play_final_sound(sound_obj_array=sound_obj_array_B, lib_str=library_B, sect_str=\"sect3\", user_ID_str=current_user_ID_str, given_state_idx=1, \n",
    "                           states_array=np.ndarray(num_of_states, dtype=object), state_descriptions=state_descriptions, param_disc=param_disc, load_file=sect3_load_str, seed=48, mixer_volume=0.45)\n",
    "\n",
    "\n"
   ]
  },
  {
   "cell_type": "code",
   "execution_count": null,
   "id": "56f4ed07-883d-4044-9f41-a30b5a838bed",
   "metadata": {},
   "outputs": [],
   "source": [
    "# State 2 - Progressing\n",
    "\n",
    "\n",
    "mischelp.play_final_sound(sound_obj_array=sound_obj_array_B, lib_str=library_B, sect_str=\"sect3\", user_ID_str=current_user_ID_str, given_state_idx=2, \n",
    "                           states_array=np.ndarray(num_of_states, dtype=object), state_descriptions=state_descriptions, param_disc=param_disc, load_file=sect3_load_str, seed=48, mixer_volume=0.45)\n",
    "\n",
    "\n"
   ]
  },
  {
   "cell_type": "markdown",
   "id": "7b3993ba-5b58-4ae8-a679-b02ebbbbe714",
   "metadata": {
    "tags": []
   },
   "source": [
    "# Save the Output \n",
    "\n",
    "Run the following code block to save the output of this Jupyter Notebook.\n",
    "\n",
    "<span style=\"color:yellow\">**Click on the cell below & hit 'shift + enter'...**</span>"
   ]
  },
  {
   "cell_type": "code",
   "execution_count": null,
   "id": "c8a7d9c3-6ada-4c30-9b66-f188b63ed069",
   "metadata": {},
   "outputs": [],
   "source": [
    "\n",
    "file_path_name = \"user_data/user_\" + current_user_ID_str + \"/final_output\"\n",
    "\n",
    "cmd = \"jupyter nbconvert --to webpdf --allow-chromium-download study_notebook_V4.ipynb --output \" + file_path_name\n",
    "if(os.system(cmd)):\n",
    "\tprint(\"Error converting to .py\")\n",
    "\tprint(f\"cmd: {cmd}\")\n",
    "    "
   ]
  },
  {
   "cell_type": "markdown",
   "id": "3b267ad4-05ec-4b7a-b79f-bc76eae24fad",
   "metadata": {
    "tags": []
   },
   "source": [
    "# Closing Survey\n",
    "\n",
    "Please click the folliwng link to answer a short post-study questionnaire.\n",
    "\n",
    "<span style=\"color:yellow\">**Pre-study Questionnaire:**</span> https://forms.gle/K6RnncY82vSVdyE38   (Participant ID Required)\n",
    "\n",
    "Thank you for completing this Jupyter Notebook. "
   ]
  },
  {
   "cell_type": "markdown",
   "id": "945efb78-e5e6-41b1-ba89-25c1fe7b37ef",
   "metadata": {
    "jp-MarkdownHeadingCollapsed": true,
    "tags": []
   },
   "source": [
    "### NOTES & DEBUG\n",
    "\n",
    "<span style=\"color:red\">**This section is not part of the survey.**</span>"
   ]
  },
  {
   "cell_type": "code",
   "execution_count": null,
   "id": "93e74227-6dca-4d47-b014-88cc9afb0a09",
   "metadata": {},
   "outputs": [],
   "source": [
    "# PILOTSET ARRAY VALUE SETTER\n",
    "\n",
    "# State 0: Stuck - Pilot Set\n",
    "manual_Qtable_state_0 = np.array([[[1., -1., -3.], [2., 0., -3.], [3., 2., -3.]], \n",
    "\t\t\t\t\t\t\t\t  [[2., -1., -3.], [2., 0., -3.], [4., 2., -3.]],\n",
    "\t\t\t\t\t\t\t\t  [[2., -1., -3.], [3., 0., -3.], [5., 3., -3.]]]) * 1.0\n",
    "\n",
    "print(\"State 0: Stuck\")\n",
    "print(manual_Qtable_state_0.shape, \"\\n\")\n",
    "print(manual_Qtable_state_0, \"\\n\")\n",
    "\n",
    "\n",
    "\n",
    "# State 1: Successful - Pilot Set\n",
    "manual_Qtable_state_1 = np.array([[[-3., 0., 2.], [-3., 1., 3.], [-3., 0., 2.]], \n",
    "\t\t\t\t\t\t\t\t  [[-3., 0., 4.], [-3., 1., 5.], [-3., 0., 3.]],\n",
    "\t\t\t\t\t\t\t\t  [[-3., 0., 2.], [-3., 1., 3.], [-3., 0., 2.]]]) * 1.0\n",
    "\n",
    "print(\"State 1: Successful\")\n",
    "print(manual_Qtable_state_1.shape, \"\\n\")\n",
    "print(manual_Qtable_state_1, \"\\n\")\n",
    "\n",
    "\n",
    "\n",
    "# State 2: Progressing - Pilot Set\n",
    "manual_Qtable_state_2 = np.array([[[0., 3., 0.], [-3., 2., -3.], [-3., 1., -3.]], \n",
    "\t\t\t\t\t\t\t\t  [[0., 5., 0.], [-3., 3., -3.], [-3., 1., -3.]],\n",
    "\t\t\t\t\t\t\t\t  [[0., 4., 0.], [-3., 2., -3.], [-3., 1., -3.]]]) * 1.0\n",
    "\n",
    "print(\"State 2: Successful\")\n",
    "print(manual_Qtable_state_2.shape, \"\\n\")\n",
    "print(manual_Qtable_state_2, \"\\n\")\n",
    "\n",
    "\n",
    "\n",
    "np.save(\"arrays/pilotset_st0.npy\", manual_Qtable_state_0)\n",
    "np.save(\"arrays/pilotset_st1.npy\", manual_Qtable_state_1)\n",
    "np.save(\"arrays/pilotset_st2.npy\", manual_Qtable_state_2)"
   ]
  },
  {
   "cell_type": "markdown",
   "id": "6b316ea7-20ff-43e7-8d6d-f167239a42b6",
   "metadata": {},
   "source": [
    "Creating buttons and widgets: https://medium.com/@technologger/how-to-interact-with-jupyter-33a98686f24e"
   ]
  },
  {
   "cell_type": "code",
   "execution_count": null,
   "id": "01b8dd30-a653-4ac7-9c0b-4009d28ac26e",
   "metadata": {},
   "outputs": [],
   "source": []
  },
  {
   "cell_type": "code",
   "execution_count": null,
   "id": "85a1b772-d31a-4608-8b21-a740dcf7859c",
   "metadata": {},
   "outputs": [],
   "source": [
    "%whos"
   ]
  }
 ],
 "metadata": {
  "kernelspec": {
   "display_name": "Python 3 (ipykernel)",
   "language": "python",
   "name": "python3"
  },
  "language_info": {
   "codemirror_mode": {
    "name": "ipython",
    "version": 3
   },
   "file_extension": ".py",
   "mimetype": "text/x-python",
   "name": "python",
   "nbconvert_exporter": "python",
   "pygments_lexer": "ipython3",
   "version": "3.9.16"
  }
 },
 "nbformat": 4,
 "nbformat_minor": 5
}
